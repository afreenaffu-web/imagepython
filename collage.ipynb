{
 "cells": [
  {
   "cell_type": "code",
   "execution_count": 31,
   "id": "fdbec8a6",
   "metadata": {},
   "outputs": [],
   "source": [
    "import cv2"
   ]
  },
  {
   "cell_type": "code",
   "execution_count": 32,
   "id": "00803d92",
   "metadata": {},
   "outputs": [],
   "source": [
    "p1=cv2.imread('never2.png')\n",
    "cv2.imshow('p1',p1)\n",
    "cv2.waitKey()\n",
    "cv2.destroyAllWindows()\n",
    "p2=cv2.imread('giveup.png')\n",
    "cv2.imshow('p2',p2)\n",
    "cv2.waitKey()\n",
    "cv2.destroyAllWindows()\n",
    "p1=cv2.imread('never2.png')\n",
    "p2=cv2.imread('giveup.png')\n",
    "never=p1[0:194,0:259]\n",
    "giveup=p2[0:194,0:259]\n",
    "tot=cv2.hconcat([never,giveup])\n",
    "cv2.imshow('collage',tot)\n",
    "cv2.waitKey()\n",
    "cv2.destroyAllWindows()"
   ]
  },
  {
   "cell_type": "code",
   "execution_count": null,
   "id": "9cd29257",
   "metadata": {},
   "outputs": [],
   "source": []
  },
  {
   "cell_type": "code",
   "execution_count": null,
   "id": "1d170588",
   "metadata": {},
   "outputs": [],
   "source": []
  }
 ],
 "metadata": {
  "kernelspec": {
   "display_name": "Python 3",
   "language": "python",
   "name": "python3"
  },
  "language_info": {
   "codemirror_mode": {
    "name": "ipython",
    "version": 3
   },
   "file_extension": ".py",
   "mimetype": "text/x-python",
   "name": "python",
   "nbconvert_exporter": "python",
   "pygments_lexer": "ipython3",
   "version": "3.8.8"
  }
 },
 "nbformat": 4,
 "nbformat_minor": 5
}
