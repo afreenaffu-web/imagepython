{
 "cells": [
  {
   "cell_type": "code",
   "execution_count": 129,
   "id": "d53bfbf7",
   "metadata": {},
   "outputs": [],
   "source": [
    "import cv2"
   ]
  },
  {
   "cell_type": "code",
   "execution_count": 130,
   "id": "cff781a6",
   "metadata": {},
   "outputs": [],
   "source": [
    "import numpy"
   ]
  },
  {
   "cell_type": "code",
   "execution_count": 131,
   "id": "f2f5594f",
   "metadata": {},
   "outputs": [],
   "source": [
    "arr=numpy.zeros((600,700,3))\n",
    "arr=cv2.rectangle(arr,(500,350),(200,600),(0,255,255),-2)\n",
    "cv2.imshow('hi',arr)\n",
    "cv2.waitKey()\n",
    "cv2.destroyAllWindows()"
   ]
  },
  {
   "cell_type": "code",
   "execution_count": 132,
   "id": "b01451b2",
   "metadata": {},
   "outputs": [],
   "source": [
    "p1=(400,500)\n",
    "p2=(500,350)\n",
    "p3=(80,100)\n",
    "arr=cv2.line(arr, p1, p2, (169,0,255), 6)\n",
    "arr=cv2.line(arr, p2, p3, (169,0,255), 6)\n",
    "arr=cv2.line(arr, p1, p3, (169,0,255), 6)\n",
    "centroid = ((p1[0]+p2[0]+p3[0])//3, (p1[1]+p2[1]+p3[1])//3)\n",
    "cv2.circle(arr, centroid, 4, (188, 255, 0),5)\n",
    "arr=cv2.circle(arr,(500,350),80,(0,0,255),-2)\n",
    "cv2.imshow('hi',arr)\n",
    "cv2.waitKey()\n",
    "cv2.destroyAllWindows()"
   ]
  },
  {
   "cell_type": "code",
   "execution_count": null,
   "id": "e020c2b5",
   "metadata": {},
   "outputs": [],
   "source": []
  },
  {
   "cell_type": "code",
   "execution_count": null,
   "id": "1795a454",
   "metadata": {},
   "outputs": [],
   "source": []
  }
 ],
 "metadata": {
  "kernelspec": {
   "display_name": "Python 3",
   "language": "python",
   "name": "python3"
  },
  "language_info": {
   "codemirror_mode": {
    "name": "ipython",
    "version": 3
   },
   "file_extension": ".py",
   "mimetype": "text/x-python",
   "name": "python",
   "nbconvert_exporter": "python",
   "pygments_lexer": "ipython3",
   "version": "3.8.8"
  }
 },
 "nbformat": 4,
 "nbformat_minor": 5
}
