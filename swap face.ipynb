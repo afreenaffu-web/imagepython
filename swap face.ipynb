{
 "cells": [
  {
   "cell_type": "code",
   "execution_count": 49,
   "id": "6ea1fa5d",
   "metadata": {},
   "outputs": [],
   "source": [
    "import cv2"
   ]
  },
  {
   "cell_type": "code",
   "execution_count": 50,
   "id": "83117173",
   "metadata": {},
   "outputs": [],
   "source": [
    "pic1=cv2.imread('vicky1.jpg')\n",
    "pic2=cv2.imread('sid.jpg')\n",
    "cv2.imshow('vicky',pic1)\n",
    "cv2.waitKey()\n",
    "cv2.destroyAllWindows()\n",
    "cv2.imshow('sid',pic2)\n",
    "cv2.waitKey()\n",
    "cv2.destroyAllWindows()\n",
    "pic1=cv2.imread('vicky1.jpg')\n",
    "crop1=pic1[95:150,135:190]\n",
    "cv2.imshow('vicky',crop1)\n",
    "cv2.waitKey()\n",
    "cv2.destroyAllWindows()\n",
    "pic2=cv2.imread('sid.jpg')\n",
    "crop2=pic2[100:155,200:255]\n",
    "cv2.imshow('sid',crop2)\n",
    "cv2.waitKey()\n",
    "cv2.destroyAllWindows()\n",
    "pic1=cv2.imread('vicky1.jpg')\n",
    "pic1[95:150,135:190]=crop2\n",
    "cv2.imshow('sid',pic1)\n",
    "cv2.waitKey()\n",
    "cv2.destroyAllWindows()\n",
    "pic2=cv2.imread('sid.jpg')\n",
    "pic2[100:155,200:255]=cv2.resize(crop1,(55,55))\n",
    "cv2.imshow('vicky',pic2)\n",
    "cv2.waitKey()\n",
    "cv2.destroyAllWindows()"
   ]
  },
  {
   "cell_type": "code",
   "execution_count": 32,
   "id": "5e502b41",
   "metadata": {},
   "outputs": [],
   "source": []
  },
  {
   "cell_type": "code",
   "execution_count": null,
   "id": "156a1cb1",
   "metadata": {},
   "outputs": [],
   "source": []
  }
 ],
 "metadata": {
  "kernelspec": {
   "display_name": "Python 3",
   "language": "python",
   "name": "python3"
  },
  "language_info": {
   "codemirror_mode": {
    "name": "ipython",
    "version": 3
   },
   "file_extension": ".py",
   "mimetype": "text/x-python",
   "name": "python",
   "nbconvert_exporter": "python",
   "pygments_lexer": "ipython3",
   "version": "3.8.8"
  }
 },
 "nbformat": 4,
 "nbformat_minor": 5
}
